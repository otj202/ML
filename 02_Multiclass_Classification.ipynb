{
 "cells": [
  {
   "cell_type": "markdown",
   "metadata": {
    "colab_type": "text",
    "id": "SQXdB9VXTFbr"
   },
   "source": [
    "# Multiclass Classification & Weight Visualization"
   ]
  },
  {
   "cell_type": "code",
   "execution_count": 1,
   "metadata": {
    "colab": {},
    "colab_type": "code",
    "id": "ZdoOvnZcTFb0"
   },
   "outputs": [],
   "source": [
    "# Import dependencies\n",
    "import numpy as np\n",
    "import pandas as pd\n",
    "from sklearn import datasets\n",
    "import random\n",
    "import pickle\n",
    "import matplotlib.pyplot as plt\n",
    "%matplotlib inline"
   ]
  },
  {
   "cell_type": "markdown",
   "metadata": {
    "colab_type": "text",
    "id": "YelYwZiATFb8"
   },
   "source": [
    "### Setup Seed\n",
    "\n",
    "For experiment reproducibility (in most cases), we need to make sure all sources of randomness are initialized with a seed. This includes the Python module `random` and `numpy`. Ideally, experiments should be run using multiple seeds to make sure results don't fit to a seed.\n",
    "\n",
    "**IMPORTANT**: Before using a random number generator from any module, make sure to set the seed using that module's seed function."
   ]
  },
  {
   "cell_type": "code",
   "execution_count": 2,
   "metadata": {
    "colab": {},
    "colab_type": "code",
    "id": "zCEj76JpTFb9"
   },
   "outputs": [],
   "source": [
    "# Set random seed\n",
    "np.random.seed(12345)"
   ]
  },
  {
   "cell_type": "markdown",
   "metadata": {
    "colab_type": "text",
    "id": "LhIgdZGdTFcK"
   },
   "source": [
    "## Fetch Data\n",
    "\n",
    "Download the MNIST dataset file `mnist.npz` from [NYU Box](https://nyu.box.com/s/a7gsf7ouxm1qrqcoqa3rwdmc6awh0070)."
   ]
  },
  {
   "cell_type": "code",
   "execution_count": 3,
   "metadata": {
    "colab": {},
    "colab_type": "code",
    "id": "5zs4GPbNNDFq"
   },
   "outputs": [
    {
     "name": "stdout",
     "output_type": "stream",
     "text": [
      "/content/sample_data/mnist.npz: No such file or directory\r\n"
     ]
    }
   ],
   "source": [
    "! wget 'https://nyu.box.com/shared/static/a7gsf7ouxm1qrqcoqa3rwdmc6awh0070.npz' -O '/content/sample_data/mnist.npz'"
   ]
  },
  {
   "cell_type": "markdown",
   "metadata": {
    "colab_type": "text",
    "id": "AXpvlalVksZX"
   },
   "source": [
    "## Read Data"
   ]
  },
  {
   "cell_type": "code",
   "execution_count": 4,
   "metadata": {
    "colab": {},
    "colab_type": "code",
    "id": "afPVOdtlTFcb"
   },
   "outputs": [],
   "source": [
    "# Class for loading MNIST data\n",
    "class MNIST:\n",
    "    def __init__(self, path):\n",
    "        mnist = pickle.load(open(path,\"rb\"))\n",
    "\n",
    "        self.train_labels = mnist['train_labels']\n",
    "        self.test_labels = mnist['test_labels']\n",
    "\n",
    "        self.train_data = mnist['train_data']\n",
    "        self.train_data = self.train_data.reshape(self.train_data.shape[0], -1)\n",
    "        self.test_data = mnist['test_data']\n",
    "        self.test_data = self.test_data.reshape(self.test_data.shape[0], -1)"
   ]
  },
  {
   "cell_type": "markdown",
   "metadata": {
    "colab_type": "text",
    "id": "keMdeZ2kTFch"
   },
   "source": [
    "**NOTE**: Modify the `path` argument as desired."
   ]
  },
  {
   "cell_type": "code",
   "execution_count": 5,
   "metadata": {
    "colab": {},
    "colab_type": "code",
    "id": "kyT3b_CFTFcj"
   },
   "outputs": [],
   "source": [
    "# Load data\n",
    "path = './qmnist.pkl'\n",
    "mnist = MNIST(path)"
   ]
  },
  {
   "cell_type": "markdown",
   "metadata": {
    "colab_type": "text",
    "id": "HC37MQLKTFdC"
   },
   "source": [
    "Each digit is represented by a $784$-D vector (flattened $28 \\times 28$ image) and has a corresponding target digit label."
   ]
  },
  {
   "cell_type": "code",
   "execution_count": 6,
   "metadata": {
    "colab": {},
    "colab_type": "code",
    "id": "Z943VccVTFdD"
   },
   "outputs": [
    {
     "data": {
      "text/plain": [
       "((60000, 784), (60000,))"
      ]
     },
     "execution_count": 6,
     "metadata": {},
     "output_type": "execute_result"
    }
   ],
   "source": [
    "# Explore data\n",
    "mnist.train_data.shape, mnist.train_labels.shape"
   ]
  },
  {
   "cell_type": "markdown",
   "metadata": {
    "colab_type": "text",
    "id": "g2Piidh6TFdU"
   },
   "source": [
    "Let's take a look at the digits distribution in the dataset."
   ]
  },
  {
   "cell_type": "code",
   "execution_count": 7,
   "metadata": {
    "colab": {},
    "colab_type": "code",
    "id": "afL1wIrTTFdV"
   },
   "outputs": [
    {
     "data": {
      "text/html": [
       "<div>\n",
       "<style scoped>\n",
       "    .dataframe tbody tr th:only-of-type {\n",
       "        vertical-align: middle;\n",
       "    }\n",
       "\n",
       "    .dataframe tbody tr th {\n",
       "        vertical-align: top;\n",
       "    }\n",
       "\n",
       "    .dataframe thead th {\n",
       "        text-align: right;\n",
       "    }\n",
       "</style>\n",
       "<table border=\"1\" class=\"dataframe\">\n",
       "  <thead>\n",
       "    <tr style=\"text-align: right;\">\n",
       "      <th></th>\n",
       "      <th>digit</th>\n",
       "      <th>count</th>\n",
       "    </tr>\n",
       "  </thead>\n",
       "  <tbody>\n",
       "    <tr>\n",
       "      <td>0</td>\n",
       "      <td>0</td>\n",
       "      <td>5923</td>\n",
       "    </tr>\n",
       "    <tr>\n",
       "      <td>1</td>\n",
       "      <td>1</td>\n",
       "      <td>6742</td>\n",
       "    </tr>\n",
       "    <tr>\n",
       "      <td>2</td>\n",
       "      <td>2</td>\n",
       "      <td>5958</td>\n",
       "    </tr>\n",
       "    <tr>\n",
       "      <td>3</td>\n",
       "      <td>3</td>\n",
       "      <td>6131</td>\n",
       "    </tr>\n",
       "    <tr>\n",
       "      <td>4</td>\n",
       "      <td>4</td>\n",
       "      <td>5842</td>\n",
       "    </tr>\n",
       "    <tr>\n",
       "      <td>5</td>\n",
       "      <td>5</td>\n",
       "      <td>5421</td>\n",
       "    </tr>\n",
       "    <tr>\n",
       "      <td>6</td>\n",
       "      <td>6</td>\n",
       "      <td>5918</td>\n",
       "    </tr>\n",
       "    <tr>\n",
       "      <td>7</td>\n",
       "      <td>7</td>\n",
       "      <td>6265</td>\n",
       "    </tr>\n",
       "    <tr>\n",
       "      <td>8</td>\n",
       "      <td>8</td>\n",
       "      <td>5851</td>\n",
       "    </tr>\n",
       "    <tr>\n",
       "      <td>9</td>\n",
       "      <td>9</td>\n",
       "      <td>5949</td>\n",
       "    </tr>\n",
       "  </tbody>\n",
       "</table>\n",
       "</div>"
      ],
      "text/plain": [
       "   digit  count\n",
       "0      0   5923\n",
       "1      1   6742\n",
       "2      2   5958\n",
       "3      3   6131\n",
       "4      4   5842\n",
       "5      5   5421\n",
       "6      6   5918\n",
       "7      7   6265\n",
       "8      8   5851\n",
       "9      9   5949"
      ]
     },
     "execution_count": 7,
     "metadata": {},
     "output_type": "execute_result"
    }
   ],
   "source": [
    "# Count the number of images per class\n",
    "pd.DataFrame({\n",
    "    'count': np.bincount(mnist.train_labels),\n",
    "    'digit': np.unique(mnist.train_labels)}, \n",
    "    columns=['digit', 'count'])"
   ]
  },
  {
   "cell_type": "markdown",
   "metadata": {
    "colab_type": "text",
    "id": "LatQBXdDTFdf"
   },
   "source": [
    "## Create Train/Validation/Test Data\n",
    "\n",
    "To make sure we create a model that generalizes well, we should train our model **ONLY** on \"train\" data, find the best performing model (validation) via the \"validation\" data and make sure no novel data (\"test\" data) leaks into the training or validation phase.\n",
    "\n",
    "For illustration, we will use $1000$ training samples, $100$ validation and test samples, all chosen (pseudo-)randomly. We first randomly pick a set of indices from both train and test data."
   ]
  },
  {
   "cell_type": "code",
   "execution_count": 8,
   "metadata": {
    "colab": {},
    "colab_type": "code",
    "id": "VOqRh5UcTFdg"
   },
   "outputs": [],
   "source": [
    "# Train, validation, test indices\n",
    "num_train, num_val, num_test = 1000, 100, 100\n",
    "sample_idx = np.random.choice(mnist.train_data.shape[0], num_train + num_val)\n",
    "test_idx = np.random.choice(mnist.test_data.shape[0], num_test)\n",
    "train_idx, val_idx = (sample_idx[:num_train], sample_idx[num_train:num_train + num_val])"
   ]
  },
  {
   "cell_type": "markdown",
   "metadata": {
    "colab_type": "text",
    "id": "iwpyhUnrTFdk"
   },
   "source": [
    "We simply use numpy slicing to get the data at the indices sampled above."
   ]
  },
  {
   "cell_type": "code",
   "execution_count": 9,
   "metadata": {
    "colab": {},
    "colab_type": "code",
    "id": "kgRP7hknTFdl"
   },
   "outputs": [],
   "source": [
    "# Train, validation, test split\n",
    "train_data, train_labels = mnist.train_data[train_idx], mnist.train_labels[train_idx].astype(np.int)\n",
    "val_data, val_labels = mnist.train_data[val_idx], mnist.train_labels[val_idx].astype(np.int)\n",
    "test_data, test_labels = mnist.test_data[test_idx], mnist.test_labels[test_idx].astype(np.int)"
   ]
  },
  {
   "cell_type": "markdown",
   "metadata": {
    "colab_type": "text",
    "id": "lcv6JczkTFdp"
   },
   "source": [
    "We add the bias element directly into the original data by concatenating a column of ones."
   ]
  },
  {
   "cell_type": "code",
   "execution_count": 10,
   "metadata": {
    "colab": {},
    "colab_type": "code",
    "id": "Ouz3mN4-TFd1"
   },
   "outputs": [
    {
     "data": {
      "text/plain": [
       "((1000, 785), (100, 785), (100, 785))"
      ]
     },
     "execution_count": 10,
     "metadata": {},
     "output_type": "execute_result"
    }
   ],
   "source": [
    "# Adjust append a column to account for for bias \n",
    "train_data_tilde = np.concatenate([train_data, np.ones((train_data.shape[0], 1))], axis=1)\n",
    "val_data_tilde = np.concatenate([val_data, np.ones((val_data.shape[0], 1))], axis=1)\n",
    "test_data_tilde = np.concatenate([test_data, np.ones((test_data.shape[0], 1))], axis=1)\n",
    "\n",
    "# Sanity check\n",
    "train_data_tilde.shape, val_data_tilde.shape, test_data_tilde.shape"
   ]
  },
  {
   "cell_type": "markdown",
   "metadata": {
    "colab_type": "text",
    "id": "t8Rnq0NrTFd3"
   },
   "source": [
    "## Visualize Train Data"
   ]
  },
  {
   "cell_type": "code",
   "execution_count": 11,
   "metadata": {
    "colab": {},
    "colab_type": "code",
    "id": "yRenwq7xTFd4"
   },
   "outputs": [
    {
     "data": {
      "image/png": "[encoded data removed]",
      "text/plain": [
       "<Figure size 432x432 with 16 Axes>"
      ]
     },
     "metadata": {
      "needs_background": "light"
     },
     "output_type": "display_data"
    }
   ],
   "source": [
    "# Visualize data\n",
    "fig, axes = plt.subplots(4, 4, figsize=(6, 6))\n",
    "fig.tight_layout()\n",
    "\n",
    "random_idx = np.random.choice(train_data.shape[0], size=16, replace=False)\n",
    "\n",
    "for i in range(4):\n",
    "    for j in range(4):\n",
    "        idx = i * 4 + j\n",
    "        axes[i, j].set_title(train_labels[idx])\n",
    "        axes[i, j].imshow(train_data[idx].reshape(28, 28), cmap='gray')\n",
    "        axes[i, j].axis('off')\n",
    "\n",
    "plt.show()"
   ]
  },
  {
   "cell_type": "markdown",
   "metadata": {
    "colab_type": "text",
    "id": "OTEIEqMVTFd8"
   },
   "source": [
    "Let's also take a look at the label distribution for our newly created training data. Ideally, we would like them to be equal in number."
   ]
  },
  {
   "cell_type": "code",
   "execution_count": 12,
   "metadata": {
    "colab": {},
    "colab_type": "code",
    "id": "U_ZkY_-tTFd9"
   },
   "outputs": [
    {
     "data": {
      "text/html": [
       "<div>\n",
       "<style scoped>\n",
       "    .dataframe tbody tr th:only-of-type {\n",
       "        vertical-align: middle;\n",
       "    }\n",
       "\n",
       "    .dataframe tbody tr th {\n",
       "        vertical-align: top;\n",
       "    }\n",
       "\n",
       "    .dataframe thead th {\n",
       "        text-align: right;\n",
       "    }\n",
       "</style>\n",
       "<table border=\"1\" class=\"dataframe\">\n",
       "  <thead>\n",
       "    <tr style=\"text-align: right;\">\n",
       "      <th></th>\n",
       "      <th>digit</th>\n",
       "      <th>count</th>\n",
       "    </tr>\n",
       "  </thead>\n",
       "  <tbody>\n",
       "    <tr>\n",
       "      <td>0</td>\n",
       "      <td>0</td>\n",
       "      <td>100</td>\n",
       "    </tr>\n",
       "    <tr>\n",
       "      <td>1</td>\n",
       "      <td>1</td>\n",
       "      <td>114</td>\n",
       "    </tr>\n",
       "    <tr>\n",
       "      <td>2</td>\n",
       "      <td>2</td>\n",
       "      <td>88</td>\n",
       "    </tr>\n",
       "    <tr>\n",
       "      <td>3</td>\n",
       "      <td>3</td>\n",
       "      <td>102</td>\n",
       "    </tr>\n",
       "    <tr>\n",
       "      <td>4</td>\n",
       "      <td>4</td>\n",
       "      <td>98</td>\n",
       "    </tr>\n",
       "    <tr>\n",
       "      <td>5</td>\n",
       "      <td>5</td>\n",
       "      <td>88</td>\n",
       "    </tr>\n",
       "    <tr>\n",
       "      <td>6</td>\n",
       "      <td>6</td>\n",
       "      <td>92</td>\n",
       "    </tr>\n",
       "    <tr>\n",
       "      <td>7</td>\n",
       "      <td>7</td>\n",
       "      <td>124</td>\n",
       "    </tr>\n",
       "    <tr>\n",
       "      <td>8</td>\n",
       "      <td>8</td>\n",
       "      <td>91</td>\n",
       "    </tr>\n",
       "    <tr>\n",
       "      <td>9</td>\n",
       "      <td>9</td>\n",
       "      <td>103</td>\n",
       "    </tr>\n",
       "  </tbody>\n",
       "</table>\n",
       "</div>"
      ],
      "text/plain": [
       "   digit  count\n",
       "0      0    100\n",
       "1      1    114\n",
       "2      2     88\n",
       "3      3    102\n",
       "4      4     98\n",
       "5      5     88\n",
       "6      6     92\n",
       "7      7    124\n",
       "8      8     91\n",
       "9      9    103"
      ]
     },
     "execution_count": 12,
     "metadata": {},
     "output_type": "execute_result"
    }
   ],
   "source": [
    "# The number of images per class in the training set\n",
    "pd.DataFrame({\n",
    "    'count': np.bincount(train_labels),\n",
    "    'digit': np.unique(train_labels)}, \n",
    "    columns=['digit', 'count'])"
   ]
  },
  {
   "cell_type": "markdown",
   "metadata": {
    "colab_type": "text",
    "id": "7WQM5w8hTFeG"
   },
   "source": [
    "## Model Definition\n",
    "\n",
    "We define a very simple model which outputs the probability of incoming digit belonging to one of the $10$ classes.\n",
    "\n",
    "$$ \n",
    "\\begin{align}\n",
    "\\mathbf{p} &= \\text{softmax}(XW^T) \\tag{$X \\in \\mathbb{R}^{M \\times (D+1)}$, $W \\in \\mathbb{R}^{K \\times (D+1)}$} \\\\\n",
    "\\text{softmax}(v_i) &= \\frac{\\exp{v_i}}{\\sum_j \\exp{v_j}} \\tag{$\\forall i \\in [1, K]$}\n",
    "\\end{align}\n",
    "$$\n",
    "\n",
    "$M$ is the number of samples, $D = 784$, $K = 10$ total number of classes."
   ]
  },
  {
   "cell_type": "markdown",
   "metadata": {
    "colab_type": "text",
    "id": "Y-tqDEmhlVal"
   },
   "source": [
    "### Model\n",
    "We code up the formulas from above. You can notice that in the first line, after the matrix multiplication operation, the resulting matrix is divided by a constant. This is done to avoid overflow; dividing by constant won't change the overall result if the softmax operation. "
   ]
  },
  {
   "cell_type": "code",
   "execution_count": 13,
   "metadata": {
    "colab": {},
    "colab_type": "code",
    "id": "w1W3OOGTlZvD"
   },
   "outputs": [
    {
     "name": "stdout",
     "output_type": "stream",
     "text": [
      "Shape of model output: (100, 10),  Sum of elements in last row: 0.9999999999999999\n"
     ]
    }
   ],
   "source": [
    "# Model \n",
    "def model(X, W):\n",
    "    ''' This function takes as input:\n",
    "            - data X of shape (M, D+1)\n",
    "            - weight matrix W of shape (K, D+1)\n",
    "        and returns \n",
    "            - the softmax predictions for each data sample over all classes\n",
    "    ''' \n",
    "    logits = np.matmul(X, W.T) / W.shape[-1] # logits.shape is (M, K)\n",
    "    logits_exp = np.exp(logits)\n",
    "    logits_exp_sum = np.sum(logits_exp, axis=1, keepdims=True) # sum each row; logits_exp_sum.shape is (M, 1)\n",
    "    probs = logits_exp / logits_exp_sum # probs.shape is (M, K)\n",
    "    return probs\n",
    "\n",
    "# Sanity check \n",
    "X = val_data_tilde\n",
    "W = np.ones((10, X.shape[1]))\n",
    "probs = model(X, W)\n",
    "print(f\"Shape of model output: {probs.shape},  Sum of elements in last row: {probs[0].sum()}\")"
   ]
  },
  {
   "cell_type": "markdown",
   "metadata": {
    "colab_type": "text",
    "id": "w8_DsH60mOF2"
   },
   "source": [
    "### Empirical Cost\n",
    "We'll define the empirical cost function we saw in class:\n",
    "$$ \n",
    "\\begin{align}\n",
    "J(W,b)\\colon = \\frac{1}{M} \\sum_{m=1}^M \\big(-\\log[~p(y^*_m~|~x_m; W, b)~]\\big)\n",
    "\\end{align}\n",
    "$$\n",
    "where $y^*_m$ is the ground truth class for input data $x_m\\colon =X[m]$."
   ]
  },
  {
   "cell_type": "code",
   "execution_count": 14,
   "metadata": {
    "colab": {},
    "colab_type": "code",
    "id": "cmJZIS87mTdy"
   },
   "outputs": [],
   "source": [
    "# Mean negative log-likelihood\n",
    "def mean_nll(W, X, y):\n",
    "    output = model(X, W)\n",
    "   \n",
    "    prob_correct_class = output[np.arange(output.shape[0]), y] # shape (M, 1)\n",
    "    \n",
    "    neg_log_likelihood = - np.log(prob_correct_class + 1e-9) # added 1e-9 for stability\n",
    "    return np.mean(neg_log_likelihood) # scalar\n",
    "\n"
   ]
  },
  {
   "cell_type": "markdown",
   "metadata": {
    "colab_type": "text",
    "id": "TThIzW25iCAs"
   },
   "source": [
    "## Regularization\n",
    "Weight decay is a popular regularization technique. It equals the squared sum of the weight parameters multiplied by a scalar hyperparamter $\\alpha > 0$. Adding this weight decay term to the loss penalizes the norm of the parameters."
   ]
  },
  {
   "cell_type": "code",
   "execution_count": 15,
   "metadata": {
    "colab": {},
    "colab_type": "code",
    "id": "arFuEwLCiCPk"
   },
   "outputs": [],
   "source": [
    "# Adding weight decay to the negative log-likelihood loss\n",
    "def regularized_loss(W, X, y, alpha=0.05):\n",
    "    nll_loss = mean_nll(W, X, y)\n",
    "    weight_decay = alpha*np.sum(W*W)\n",
    "    return nll_loss + weight_decay"
   ]
  },
  {
   "cell_type": "markdown",
   "metadata": {
    "colab_type": "text",
    "id": "lmhyUFKf0l7b"
   },
   "source": [
    "### Gradient with jax"
   ]
  },
  {
   "cell_type": "code",
   "execution_count": 16,
   "metadata": {
    "colab": {},
    "colab_type": "code",
    "id": "Yqm1FVP60mVZ"
   },
   "outputs": [],
   "source": [
    "import jax.numpy as np\n",
    "import numpy as np_old\n",
    "from jax import grad, jit\n",
    "\n",
    "# Gradient function\n",
    "grad_nll = jit(grad(regularized_loss))"
   ]
  },
  {
   "cell_type": "markdown",
   "metadata": {
    "colab_type": "text",
    "id": "hEE0OhNCnkCT"
   },
   "source": [
    "### Model Evaluation"
   ]
  },
  {
   "cell_type": "code",
   "execution_count": 17,
   "metadata": {
    "colab": {},
    "colab_type": "code",
    "id": "mb17oAXxnpFl"
   },
   "outputs": [],
   "source": [
    "# Function computing the loss and the accuracy of the model\n",
    "def evaluate(W, X, y):\n",
    "    all_probs = model(X, W)\n",
    "    loss = regularized_loss(W, X, y)\n",
    "    y_pred = np_old.argmax(all_probs, axis=1)\n",
    "    y_correct = np_old.sum(y_pred == y)\n",
    "    acc = y_correct / y.shape[0]\n",
    "    return loss, acc"
   ]
  },
  {
   "cell_type": "markdown",
   "metadata": {
    "colab_type": "text",
    "id": "_JZ5prwBTFeM"
   },
   "source": [
    "## Execute Training\n",
    "\n",
    "We first initialize all weights randomly from a standard normal distribution and then run training until we see no further improvement (for a maximum of `n_epochs`).\n",
    "\n",
    "\n",
    "### Gradient Descent\n",
    "\n",
    "Often times, we cannot solve for the true parameters in closed form and resort to an iterative procedure known as *gradient descent*. Further, using only one data sample to update the parameters is termed as *stochastic gradient descent*. The stochasticity (randomness) comes from the fact that we only use one sample and not the full data set. To maximize memory utilization, we take a subset of samples called a *mini-batch*, termed as *mini-batch stochastic gradient descent*. This technique is demonstrated in the example below.\n",
    "\n",
    "The stochastic gradient algorithm involves a set of hyperparameters that typically require tuning based on the problem at hand. The learning rate is a multiplicative factor to the *stochastic gradient* which decides how far we jump in the gradient direction (modifies the magnitude of the gradient). As we start getting closer to the optimum value, we would like to slow down so as to not make large jumps in the parameter ($\\mathbf{W}$) space. This schedule of decreasing the learning rate is known as *annealing*. In the example below, we anneal from a learning rate of $0.1$ to $0.001$ over $500$ epochs."
   ]
  },
  {
   "cell_type": "code",
   "execution_count": 18,
   "metadata": {
    "colab": {},
    "colab_type": "code",
    "id": "2nWqrG-_TFeN"
   },
   "outputs": [
    {
     "name": "stderr",
     "output_type": "stream",
     "text": [
      "/Users/owenjones/ML/jax/lib/xla_bridge.py:119: UserWarning: No GPU/TPU found, falling back to CPU.\n",
      "  warnings.warn('No GPU/TPU found, falling back to CPU.')\n"
     ]
    },
    {
     "data": {
      "text/plain": [
       "(10, 785)"
      ]
     },
     "execution_count": 18,
     "metadata": {},
     "output_type": "execute_result"
    }
   ],
   "source": [
    "# Obtain number of classes and data dimension\n",
    "K = np_old.unique(mnist.train_labels).shape[0]\n",
    "D = mnist.train_data.shape[-1]\n",
    "\n",
    "# Initialize weight matrix\n",
    "W_init = np_old.random.normal(size=(K, D+1)) # numpy array\n",
    "W = np.array(W_init) # jax.numpy array\n",
    "W.shape"
   ]
  },
  {
   "cell_type": "markdown",
   "metadata": {
    "colab_type": "text",
    "id": "0STy0JYwoKP0"
   },
   "source": [
    "## Training Loop"
   ]
  },
  {
   "cell_type": "code",
   "execution_count": 19,
   "metadata": {
    "colab": {},
    "colab_type": "code",
    "id": "e9sGt48MW9SQ"
   },
   "outputs": [
    {
     "name": "stdout",
     "output_type": "stream",
     "text": [
      "epoch    0 : lr 0.1000 val acc 0.1300 | loss 321.98230\n",
      "epoch   50 : lr 0.0753 val acc 0.7100 | loss 1.99071\n",
      "epoch   59 : lr 0.0708 val acc 0.7200 | loss 1.95688\n",
      "\n",
      "Test acc 0.7900 | loss 1.92765\n"
     ]
    }
   ],
   "source": [
    "# Training loop\n",
    "n_epochs = 200\n",
    "batch_size = 100\n",
    "lr0 = 0.1\n",
    "lrf = 0.001\n",
    "anneal_over = 200\n",
    "improvement = 0.999\n",
    "\n",
    "best_w, old_loss = None, np_old.Inf\n",
    "\n",
    "for e in range(n_epochs):\n",
    "    lr = max(lrf, lr0 + (lrf - lr0) * (e / anneal_over))\n",
    "\n",
    "    # \n",
    "    for b in range(num_train // batch_size):\n",
    "        minibatch_X = train_data_tilde[b * batch_size:(b + 1) * batch_size]\n",
    "        minibatch_y = train_labels[b * batch_size:(b + 1) * batch_size]\n",
    "        dW = grad_nll(W, minibatch_X, minibatch_y)\n",
    "        W -= lr * dW\n",
    "    \n",
    "    # Print accuracy and loss on validation data every 50 epochs\n",
    "    val_loss, val_acc = evaluate(W, val_data_tilde, val_labels)\n",
    "    if e % 50 == 0 or e == n_epochs -1:\n",
    "        print ('epoch {:4d} : lr {:.4f} val acc {:.4f} | loss {:.5f}'.format(e, lr, val_acc, val_loss))\n",
    "    \n",
    "    # Save W with best validation accuracy performance\n",
    "    if val_loss < old_loss:\n",
    "        best_w = W\n",
    "    \n",
    "    # Early stopping\n",
    "    if val_loss / old_loss >= improvement:\n",
    "        print ('epoch {:4d} : lr {:.4f} val acc {:.4f} | loss {:.5f}'.format(e, lr, val_acc, val_loss))\n",
    "        break\n",
    "\n",
    "    old_loss = val_loss\n",
    "        \n",
    "test_loss, test_acc = evaluate(best_w, test_data_tilde, test_labels)\n",
    "print ('\\nTest acc {:.4f} | loss {:.5f}'.format(test_acc, test_loss))"
   ]
  },
  {
   "cell_type": "markdown",
   "metadata": {
    "colab_type": "text",
    "id": "DLIlVGOPTFeY"
   },
   "source": [
    "## Visualize Features\n",
    "\n",
    "If everything goes well, we should be able to visualize each row of the parameter matrix $W$ defined above and start seeing some patterns. Intuitively, these can be thought of as a visual association of parameters with parts of the image space. The brighter the visual, the higher the response signal on interaction with the input."
   ]
  },
  {
   "cell_type": "code",
   "execution_count": 20,
   "metadata": {
    "colab": {},
    "colab_type": "code",
    "id": "IguNJqPLTFeZ"
   },
   "outputs": [
    {
     "data": {
      "image/png": "[encoded data removed]",
      "text/plain": [
       "<Figure size 432x288 with 10 Axes>"
      ]
     },
     "metadata": {
      "needs_background": "light"
     },
     "output_type": "display_data"
    }
   ],
   "source": [
    "# Plot the patterns learned by the weight matrix \n",
    "fig, axes = plt.subplots(2, 5)\n",
    "\n",
    "for i in range(2):\n",
    "    for j in range(5):\n",
    "        idx = j + i * 5\n",
    "        axes[i, j].imshow(best_w[idx, :-1].reshape(28, 28), cmap='gray')\n",
    "        axes[i, j].axis('off')\n",
    "\n",
    "plt.show()"
   ]
  },
  {
   "cell_type": "code",
   "execution_count": null,
   "metadata": {
    "colab": {},
    "colab_type": "code",
    "id": "Sdos-gYQOGKk"
   },
   "outputs": [],
   "source": []
  }
 ],
 "metadata": {
  "anaconda-cloud": {},
  "colab": {
   "collapsed_sections": [],
   "name": "02-MulticlassClassification.ipynb",
   "provenance": [],
   "toc_visible": true
  },
  "kernelspec": {
   "display_name": "Python 3",
   "language": "python",
   "name": "python3"
  },
  "language_info": {
   "codemirror_mode": {
    "name": "ipython",
    "version": 3
   },
   "file_extension": ".py",
   "mimetype": "text/x-python",
   "name": "python",
   "nbconvert_exporter": "python",
   "pygments_lexer": "ipython3",
   "version": "3.7.4"
  }
 },
 "nbformat": 4,
 "nbformat_minor": 1
}
