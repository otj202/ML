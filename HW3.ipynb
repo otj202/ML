{
 "cells": [
  {
   "cell_type": "markdown",
   "metadata": {},
   "source": [
    "# HW3: PCA & NMF"
   ]
  },
  {
   "cell_type": "markdown",
   "metadata": {},
   "source": [
    "## Principal Components Analysis (PCA)\n",
    "\n",
    "Your task is to implement PCA on the `20newsgroups` dataset.\n",
    "\n",
    "- We provide code below that uses [tf-idf](https://en.wikipedia.org/wiki/Tf%E2%80%93idf) to convert each document in the dataset into a vector of features (**1. Data**).\n",
    "\n",
    "- You will then use scikit learn's PCA implementation on these features (**2. PCA**).\n",
    "\n",
    "- Finally, you'll visualize the reduced data points (**3. Visualizing the reduced data points**) and the principal components (**4. Visualizing the  components**)."
   ]
  },
  {
   "cell_type": "code",
   "execution_count": 1,
   "metadata": {},
   "outputs": [],
   "source": [
    "import numpy as np\n",
    "import matplotlib.pyplot as plt\n",
    "%matplotlib inline\n",
    "\n",
    "from sklearn import datasets\n",
    "from sklearn.feature_extraction.text import TfidfVectorizer, CountVectorizer"
   ]
  },
  {
   "cell_type": "markdown",
   "metadata": {},
   "source": [
    "## 1. Data (0 points)"
   ]
  },
  {
   "cell_type": "code",
   "execution_count": 2,
   "metadata": {},
   "outputs": [],
   "source": [
    "newsgroups_train = datasets.fetch_20newsgroups(\n",
    "    subset='train', \n",
    "    categories=['comp.sys.mac.hardware', \n",
    "                'rec.motorcycles', \n",
    "                'sci.med', \n",
    "                'soc.religion.christian']\n",
    ")"
   ]
  },
  {
   "cell_type": "code",
   "execution_count": 3,
   "metadata": {},
   "outputs": [],
   "source": [
    "\n",
    "tfidf_vectorizer = TfidfVectorizer(min_df=30)\n",
    "X = tfidf_vectorizer.fit_transform(newsgroups_train.data).todense()\n",
    "X = X - X.mean(0)\n",
    "\n",
    "y = newsgroups_train.target"
   ]
  },
  {
   "cell_type": "code",
   "execution_count": 4,
   "metadata": {},
   "outputs": [
    {
     "name": "stdout",
     "output_type": "stream",
     "text": [
      "From: jgd@dixie.com (John De Armond)\n",
      "Subject: Re: Do we need a Radiologist to read an Ultrasound?\n",
      "Organization: Dixie Communications Public Access.  The Mouth of the South.\n",
      "Lines: 28\n",
      "\n",
      "E.J. Draper <draper@odin.mda.uth.tmc.edu> writes:\n",
      "\n",
      ">If it were my wife, I would insist that a radiologist be involved in the\n",
      ">process.  Radiologist are intensively trained in the process of\n",
      ">interpreting diagnostic imaging data and are aware of many things that\n",
      ">other physicians aren't aware of.  \n",
      "\n",
      "Maybe, maybe not.  A new graduate would obviously be well trained (but\n",
      "perhaps without sufficient experience). A radiologist trained 10 or\n",
      "15 years ago who has not kept his continuing education current is a \n",
      "whole 'nuther matter.  A OB who HAS trained in modern radiology technology\n",
      "is certainly more qualified than the latter and at least equal to \n",
      "the former.\n",
      "\n",
      ">Would you want a radiologist to\n",
      ">deliver your baby?  If you wouldn't, then why would you want a OB/GYN to\n",
      ">read your ultrasound study?\n",
      "\n",
      "If the radiologist is also trained in OB/GYN, why not?\n",
      "\n",
      "John\n",
      "\n",
      "-- \n",
      "John De Armond, WD4OQC               |Interested in high performance mobility?  \n",
      "Performance Engineering Magazine(TM) | Interested in high tech and computers? \n",
      "Marietta, Ga                         | Send ur snail-mail address to \n",
      "jgd@dixie.com                        | perform@dixie.com for a free sample mag\n",
      "Lee Harvey Oswald: Where are ya when we need ya?\n",
      "\n",
      "tf-idf representation: [[-0.00356257 -0.00137043 -0.00235726 ... -0.00153773 -0.00254579\n",
      "  -0.00232374]] (1, 1771)\n",
      "class: 2 (sci.med)\n"
     ]
    }
   ],
   "source": [
    "# Show an example (item 0 in the dataset)\n",
    "print(newsgroups_train.data[0])\n",
    "print(\"tf-idf representation:\", X[0], X[0].shape)\n",
    "print(\"class:\", y[0], \"(%s)\" % newsgroups_train.target_names[y[0]])"
   ]
  },
  {
   "cell_type": "markdown",
   "metadata": {},
   "source": [
    "## 2. PCA - Principal Components Analysis (5 points)\n",
    "\n",
    "Use `q = 4` (where `q` is the number of components, as in the lecture notes)"
   ]
  },
  {
   "cell_type": "code",
   "execution_count": 5,
   "metadata": {},
   "outputs": [],
   "source": [
    "q = 4\n",
    "random_seed = 123"
   ]
  },
  {
   "cell_type": "code",
   "execution_count": 6,
   "metadata": {},
   "outputs": [],
   "source": [
    "# <TODO> import the proper class\n",
    "# ...\n",
    "from sklearn.decomposition import PCA\n",
    "# <TODO> initialize the PCA model.\n",
    "pca = PCA(n_components = q,random_state = random_seed)\n",
    "\n",
    "# <TODO> train the PCA model and retrieve the low-dimensional projection of X.\n",
    "Z = pca.fit_transform(X,y)\n",
    "\n",
    "\n",
    "# <TODO> retrieve the explained variance ratio.\n",
    "var_ratio = pca.explained_variance_ratio_ "
   ]
  },
  {
   "cell_type": "code",
   "execution_count": 7,
   "metadata": {},
   "outputs": [
    {
     "name": "stdout",
     "output_type": "stream",
     "text": [
      "Ratio of variance explained:  [0.03080441 0.01712901 0.0115538  0.00999027]\n"
     ]
    }
   ],
   "source": [
    "# You should get around (there may be very small variations between runs): \n",
    "#      [0.03080441 0.01712901 0.01155379 0.00999028]\n",
    "\n",
    "print('Ratio of variance explained: ', var_ratio)"
   ]
  },
  {
   "cell_type": "code",
   "execution_count": 8,
   "metadata": {},
   "outputs": [
    {
     "name": "stdout",
     "output_type": "stream",
     "text": [
      "Original Shape:  (2369, 1771)\n",
      "Reduced Shape:  (2369, 4)\n"
     ]
    }
   ],
   "source": [
    "# You should get:\n",
    "#      Original Shape:  (2369, 1771)\n",
    "#      Reduced Shape:  (2369, 4)\n",
    "\n",
    "print('Original Shape: ', X.shape)\n",
    "print('Reduced Shape: ', Z.shape)"
   ]
  },
  {
   "cell_type": "markdown",
   "metadata": {},
   "source": [
    "## 3. Visualizing the reduced data points (2 points)\n",
    "\n",
    "Below you will visualize the **first two dimensions** of the reduced data.\n",
    "\n",
    "**_Question_: Based on the visualization, which class has a noticeably different low-dimensional representation?**  Refer to `newsgroups_train.target_names` to interpret the integer class label.\n",
    "\n",
    "**_Your answer here_:** The \"sci.med\" class has a noticeably different low-dimensional representation. The other 3 classes have their data mostly stacked on top of each other in a horizontal cluster just above the x axis, centered approximately at $x=0$. The data points for sci.med,however, are scattered in a much larger area extending vertically from $y=0$ to $y=0.8$."
   ]
  },
  {
   "cell_type": "code",
   "execution_count": 9,
   "metadata": {},
   "outputs": [
    {
     "name": "stdout",
     "output_type": "stream",
     "text": [
      "['comp.sys.mac.hardware', 'rec.motorcycles', 'sci.med', 'soc.religion.christian']\n"
     ]
    },
    {
     "data": {
      "image/png": "[encoded data removed]",
      "text/plain": [
       "<Figure size 576x432 with 1 Axes>"
      ]
     },
     "metadata": {
      "needs_background": "light"
     },
     "output_type": "display_data"
    }
   ],
   "source": [
    "# <TODO> Select the dimensions to visualize\n",
    "print(newsgroups_train.target_names)\n",
    "x_axis_data = Z[:,0]\n",
    "y_axis_data = Z[:,1]\n",
    "\n",
    "# Visualize (you should not need to modify this.)\n",
    "plt.figure(figsize=(8, 6))\n",
    "for label in np.unique(y):\n",
    "    x_ = x_axis_data[y == label]\n",
    "    y_ = y_axis_data[y == label]\n",
    "    plt.scatter(x_, y_, label=label)\n",
    "plt.legend();"
   ]
  },
  {
   "cell_type": "code",
   "execution_count": null,
   "metadata": {},
   "outputs": [],
   "source": []
  },
  {
   "cell_type": "markdown",
   "metadata": {},
   "source": [
    "## 4. Visualizing the principal components (3 points)\n",
    "\n",
    "We will 'visualize' each principal component by printing its highest-weighted tokens."
   ]
  },
  {
   "cell_type": "code",
   "execution_count": 10,
   "metadata": {},
   "outputs": [],
   "source": [
    "# <TODO> uncomment below. Retrieve W\n",
    "W = pca.components_"
   ]
  },
  {
   "cell_type": "code",
   "execution_count": 11,
   "metadata": {},
   "outputs": [],
   "source": [
    "#subroutine to print out the top n tokens, given indices sorted by weight\n",
    "idx_to_token = {\n",
    "    idx: token \n",
    "    for token, idx in tfidf_vectorizer.vocabulary_.items()\n",
    "}\n",
    "def print_tokens(sorted_idx,n):\n",
    "    for j in range(n):\n",
    "        print(\"%d. %s\\n\"%(j+1,idx_to_token[sorted_idx[-1-j]]))\n",
    "   "
   ]
  },
  {
   "cell_type": "code",
   "execution_count": 12,
   "metadata": {},
   "outputs": [
    {
     "name": "stdout",
     "output_type": "stream",
     "text": [
      "--- Component 0\n",
      "1. the\n",
      "\n",
      "2. of\n",
      "\n",
      "3. that\n",
      "\n",
      "4. to\n",
      "\n",
      "5. and\n",
      "\n",
      "6. is\n",
      "\n",
      "7. god\n",
      "\n",
      "8. in\n",
      "\n",
      "9. we\n",
      "\n",
      "10. not\n",
      "\n",
      "--- Component 1\n",
      "1. pitt\n",
      "\n",
      "2. geb\n",
      "\n",
      "3. banks\n",
      "\n",
      "4. gordon\n",
      "\n",
      "5. cs\n",
      "\n",
      "6. cadre\n",
      "\n",
      "7. dsl\n",
      "\n",
      "8. shameful\n",
      "\n",
      "9. n3jxp\n",
      "\n",
      "10. chastity\n",
      "\n",
      "--- Component 2\n",
      "1. god\n",
      "\n",
      "2. we\n",
      "\n",
      "3. he\n",
      "\n",
      "4. jesus\n",
      "\n",
      "5. his\n",
      "\n",
      "6. that\n",
      "\n",
      "7. faith\n",
      "\n",
      "8. christians\n",
      "\n",
      "9. hell\n",
      "\n",
      "10. not\n",
      "\n",
      "--- Component 3\n",
      "1. the\n",
      "\n",
      "2. edu\n",
      "\n",
      "3. mac\n",
      "\n",
      "4. of\n",
      "\n",
      "5. university\n",
      "\n",
      "6. god\n",
      "\n",
      "7. ai\n",
      "\n",
      "8. apple\n",
      "\n",
      "9. georgia\n",
      "\n",
      "10. uga\n",
      "\n"
     ]
    }
   ],
   "source": [
    "# For each component...\n",
    "for i in range(q):\n",
    "    sorted_idxs = np.argsort(W[i])\n",
    "    print('--- Component %d' % i)\n",
    "    # print out the tokens with the top-10 highest weights \n",
    "    #for this component.\n",
    "    print_tokens(sorted_idxs,10)"
   ]
  },
  {
   "cell_type": "markdown",
   "metadata": {},
   "source": [
    "## Non-negative Matrix Factorization (NMF) (10 points)\n",
    "\n",
    "Now your task is to use NMF:\n",
    "- Use the `sklearn.decomposition.NMF` class to find a low-dimensional representation of the data\n",
    "- Print out the 10 highest-weighted tokens according to each row of the weight matrix `W`\n",
    "\n",
    "_The overall pattern should be similar to steps (2) and (4) that you did above._"
   ]
  },
  {
   "cell_type": "markdown",
   "metadata": {},
   "source": [
    "Use `q=10`:"
   ]
  },
  {
   "cell_type": "code",
   "execution_count": 13,
   "metadata": {},
   "outputs": [],
   "source": [
    "tfidf_vectorizer = TfidfVectorizer(min_df=30)\n",
    "X = tfidf_vectorizer.fit_transform(newsgroups_train.data).todense()\n",
    "q = 10"
   ]
  },
  {
   "cell_type": "code",
   "execution_count": 14,
   "metadata": {},
   "outputs": [],
   "source": [
    "#initialize, fit the NMF to our data X\n",
    "from sklearn.decomposition import NMF\n",
    "nmf = NMF(n_components = q,random_state = random_seed).fit(X)"
   ]
  },
  {
   "cell_type": "code",
   "execution_count": 15,
   "metadata": {},
   "outputs": [
    {
     "name": "stdout",
     "output_type": "stream",
     "text": [
      "Reconstruction error: 42.65625\n"
     ]
    }
   ],
   "source": [
    "print(\"Reconstruction error: %.5f\" % nmf.reconstruction_err_)"
   ]
  },
  {
   "cell_type": "code",
   "execution_count": 16,
   "metadata": {},
   "outputs": [
    {
     "name": "stdout",
     "output_type": "stream",
     "text": [
      "--- Component 0\n",
      "1. of\n",
      "\n",
      "2. to\n",
      "\n",
      "3. is\n",
      "\n",
      "4. and\n",
      "\n",
      "5. in\n",
      "\n",
      "6. that\n",
      "\n",
      "7. this\n",
      "\n",
      "8. are\n",
      "\n",
      "9. for\n",
      "\n",
      "10. it\n",
      "\n",
      "--- Component 1\n",
      "1. pitt\n",
      "\n",
      "2. geb\n",
      "\n",
      "3. banks\n",
      "\n",
      "4. gordon\n",
      "\n",
      "5. cs\n",
      "\n",
      "6. edu\n",
      "\n",
      "7. shameful\n",
      "\n",
      "8. cadre\n",
      "\n",
      "9. dsl\n",
      "\n",
      "10. chastity\n",
      "\n",
      "--- Component 2\n",
      "1. bike\n",
      "\n",
      "2. ca\n",
      "\n",
      "3. my\n",
      "\n",
      "4. and\n",
      "\n",
      "5. on\n",
      "\n",
      "6. bnr\n",
      "\n",
      "7. edu\n",
      "\n",
      "8. for\n",
      "\n",
      "9. dod\n",
      "\n",
      "10. to\n",
      "\n",
      "--- Component 3\n",
      "1. the\n",
      "\n",
      "2. of\n",
      "\n",
      "3. and\n",
      "\n",
      "4. in\n",
      "\n",
      "5. was\n",
      "\n",
      "6. that\n",
      "\n",
      "7. it\n",
      "\n",
      "8. to\n",
      "\n",
      "9. on\n",
      "\n",
      "10. is\n",
      "\n",
      "--- Component 4\n",
      "1. edu\n",
      "\n",
      "2. mac\n",
      "\n",
      "3. apple\n",
      "\n",
      "4. drive\n",
      "\n",
      "5. for\n",
      "\n",
      "6. university\n",
      "\n",
      "7. posting\n",
      "\n",
      "8. se\n",
      "\n",
      "9. nntp\n",
      "\n",
      "10. host\n",
      "\n",
      "--- Component 5\n",
      "1. god\n",
      "\n",
      "2. he\n",
      "\n",
      "3. we\n",
      "\n",
      "4. that\n",
      "\n",
      "5. his\n",
      "\n",
      "6. to\n",
      "\n",
      "7. is\n",
      "\n",
      "8. jesus\n",
      "\n",
      "9. of\n",
      "\n",
      "10. not\n",
      "\n",
      "--- Component 6\n",
      "1. msg\n",
      "\n",
      "2. food\n",
      "\n",
      "3. dyer\n",
      "\n",
      "4. sensitivity\n",
      "\n",
      "5. chinese\n",
      "\n",
      "6. superstition\n",
      "\n",
      "7. that\n",
      "\n",
      "8. the\n",
      "\n",
      "9. is\n",
      "\n",
      "10. berkeley\n",
      "\n",
      "--- Component 7\n",
      "1. com\n",
      "\n",
      "2. sun\n",
      "\n",
      "3. in\n",
      "\n",
      "4. article\n",
      "\n",
      "5. writes\n",
      "\n",
      "6. east\n",
      "\n",
      "7. behanna\n",
      "\n",
      "8. nec\n",
      "\n",
      "9. hp\n",
      "\n",
      "10. inc\n",
      "\n",
      "--- Component 8\n",
      "1. you\n",
      "\n",
      "2. to\n",
      "\n",
      "3. your\n",
      "\n",
      "4. it\n",
      "\n",
      "5. if\n",
      "\n",
      "6. that\n",
      "\n",
      "7. the\n",
      "\n",
      "8. do\n",
      "\n",
      "9. have\n",
      "\n",
      "10. can\n",
      "\n",
      "--- Component 9\n",
      "1. ai\n",
      "\n",
      "2. georgia\n",
      "\n",
      "3. uga\n",
      "\n",
      "4. covington\n",
      "\n",
      "5. mcovingt\n",
      "\n",
      "6. michael\n",
      "\n",
      "7. athens\n",
      "\n",
      "8. programs\n",
      "\n",
      "9. edu\n",
      "\n",
      "10. aisun3\n",
      "\n"
     ]
    }
   ],
   "source": [
    "#\"dictionary matrix\" of our components\n",
    "W_nmf = nmf.components_\n",
    "\n",
    "# For each component...\n",
    "for i in range(q):\n",
    "    sorted_idxs = np.argsort(W_nmf[i])\n",
    "    \n",
    "    print('--- Component %d' % i)\n",
    "    #print out the tokens with the top-10 highest weights \n",
    "    # for this component.\n",
    "    print_tokens(sorted_idxs,10)\n",
    "    "
   ]
  },
  {
   "cell_type": "code",
   "execution_count": 17,
   "metadata": {},
   "outputs": [
    {
     "name": "stdout",
     "output_type": "stream",
     "text": [
      "(2369,)\n"
     ]
    }
   ],
   "source": [
    "print(y.shape)"
   ]
  },
  {
   "cell_type": "code",
   "execution_count": null,
   "metadata": {},
   "outputs": [],
   "source": []
  }
 ],
 "metadata": {
  "kernelspec": {
   "display_name": "Python 3",
   "language": "python",
   "name": "python3"
  },
  "language_info": {
   "codemirror_mode": {
    "name": "ipython",
    "version": 3
   },
   "file_extension": ".py",
   "mimetype": "text/x-python",
   "name": "python",
   "nbconvert_exporter": "python",
   "pygments_lexer": "ipython3",
   "version": "3.7.4"
  }
 },
 "nbformat": 4,
 "nbformat_minor": 2
}
