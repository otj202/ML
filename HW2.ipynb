{
 "cells": [
  {
   "cell_type": "markdown",
   "metadata": {},
   "source": [
    "# QMNIST classification and model analysis with confusion matrix"
   ]
  },
  {
   "cell_type": "markdown",
   "metadata": {},
   "source": [
    "## QMNIST dataset\n",
    "You are not required but encouraged to read the paper about QMNIST dataset: https://arxiv.org/pdf/1905.10498.pdf\n",
    "\n",
    "## Outline:\n",
    "\n",
    "1. Prepare your data\n",
    "\n",
    "2. Print data\n",
    "\n",
    "3. Create Linear classifier\n",
    "\n",
    "4. Create Non-linear classifier\n",
    "\n",
    "5. Train created models using QMNIST data\n",
    "\n",
    "6. Visualize learned filters from Linear and Non-linear model\n",
    "\n",
    "7. Report test accuracy of both models and analyze confusion matrices\n",
    "\n",
    "## 1. Prepare your data\n",
    "\n",
    "We have prepared the pickle file which can be downloaded using the link below.\n",
    "\n",
    "The pickle file is a dict with the keys representing train / test data and labels.\n",
    "\n",
    "It should be pretty similar to MNIST code we used in the lab."
   ]
  },
  {
   "cell_type": "code",
   "execution_count": 2,
   "metadata": {},
   "outputs": [],
   "source": [
    "#import dependencies\n",
    "%matplotlib widget\n",
    "%matplotlib inline\n",
    "\n",
    "import numpy\n",
    "import matplotlib.pyplot as plot\n",
    "import pickle\n",
    "from sklearn.linear_model import LogisticRegression,SGDClassifier\n",
    "from sklearn.neural_network import MLPClassifier\n",
    "from sklearn.metrics import confusion_matrix\n",
    "import pandas as pd"
   ]
  },
  {
   "cell_type": "code",
   "execution_count": 3,
   "metadata": {},
   "outputs": [],
   "source": [
    "#random seed\n",
    "random_seed = 12345"
   ]
  },
  {
   "cell_type": "code",
   "execution_count": 4,
   "metadata": {},
   "outputs": [
    {
     "name": "stdout",
     "output_type": "stream",
     "text": [
      "dict_keys(['train_data', 'train_labels', 'test_data', 'test_labels'])\n",
      "[3 8 9 ... 5 5 4]\n"
     ]
    }
   ],
   "source": [
    "# downloading code for you\n",
    "#! wget https://nyu.box.com/shared/static/4914fnt7z3obeupe9xyn7idzz9rsjg4x.pkl -O ./qmnist.pkl\n",
    "\n",
    "\n",
    "qmnist = pickle.load(open(\"./qmnist.pkl\",\"rb\"))\n",
    "\n",
    "# check the keys of the dict in pickle file\n",
    "print(qmnist.keys())\n",
    "# prepare your data\n",
    "# put your code here...\n",
    "\n",
    "train_data = qmnist['train_data']\n",
    "train_labels = qmnist['train_labels']\n",
    "\n",
    "test_data = qmnist['test_data']\n",
    "test_labels = qmnist['test_labels']\n",
    "print(test_labels)"
   ]
  },
  {
   "cell_type": "markdown",
   "metadata": {},
   "source": [
    "## 2. Print data\n",
    "\n",
    "Print five examples from the training part of QMNIST. Feel free to reuse the code from the lab"
   ]
  },
  {
   "cell_type": "code",
   "execution_count": 4,
   "metadata": {},
   "outputs": [],
   "source": [
    "#Visualization routine, reusing code from the lab\n",
    "#this one only prints 5 examples, though\n",
    "def print_data(train_data, train_labels):\n",
    "    fig, axes = plot.subplots(5, 1, figsize=(6, 6))\n",
    "    fig.tight_layout()\n",
    "\n",
    "    for i in range(5):\n",
    "        idx = i\n",
    "        axes[i].set_title(train_labels[idx])\n",
    "        axes[i].imshow(train_data[idx].reshape(28, 28), cmap='gray')\n",
    "        axes[i].axis('off')\n",
    "\n",
    "    plot.show()\n",
    "    "
   ]
  },
  {
   "cell_type": "code",
   "execution_count": 5,
   "metadata": {},
   "outputs": [
    {
     "data": {
      "image/png": "[encoded data removed]",
      "text/plain": [
       "<Figure size 432x432 with 5 Axes>"
      ]
     },
     "metadata": {
      "needs_background": "light"
     },
     "output_type": "display_data"
    }
   ],
   "source": [
    "# put your code here ...\n",
    "print_data(train_data, train_labels)"
   ]
  },
  {
   "cell_type": "markdown",
   "metadata": {},
   "source": [
    "## 3. Create *Linear* classfier using sklearn\n",
    "\n",
    "Create a model with sklearn. It is your task to find out the correct module to use.\n",
    "\n",
    "**Hint:** google `sklearn softmax classifier` to find out some related references. Do not use svm, try logistic regression.\n",
    "\n",
    "**Attention:** you must create the multi-class classifier model."
   ]
  },
  {
   "cell_type": "code",
   "execution_count": 6,
   "metadata": {},
   "outputs": [],
   "source": [
    "#put your code here\n",
    "#multi-class parameter set to \"multinomial\" so that a softmax classifier is used.\n",
    "clf = LogisticRegression(tol = 1e-3,random_state = random_seed,solver='lbfgs',multi_class=\"multinomial\")"
   ]
  },
  {
   "cell_type": "markdown",
   "metadata": {},
   "source": [
    "## 4. Create *Non-linear* classifier using sklearn\n",
    "\n",
    "Create a model with sklearn. It is your task to find out the correct module to use.\n",
    "\n",
    "**Hint:** google `sklearn neural network` to find out some related references. Do not use svm, try neural network. Use any reasonable hyper-parameter for hidden size and number of layers to keep it running fast enough on your laptop etc.\n",
    "\n"
   ]
  },
  {
   "cell_type": "code",
   "execution_count": 7,
   "metadata": {},
   "outputs": [],
   "source": [
    "# put your code here\n",
    "brain = MLPClassifier(solver = 'adam',random_state = random_seed,alpha = 1e-5,hidden_layer_sizes = (100,))"
   ]
  },
  {
   "cell_type": "markdown",
   "metadata": {},
   "source": [
    "## 5. Train created models using QMNIST data\n",
    "\n",
    "Train your model using `.fit()` function.\n",
    "\n",
    "**Attention:** to get full points you need to get `>90%` accuracy on 50k test set.\n",
    "\n",
    "Make sure that accuracy value is saved in the output of the cell."
   ]
  },
  {
   "cell_type": "code",
   "execution_count": 8,
   "metadata": {},
   "outputs": [
    {
     "name": "stderr",
     "output_type": "stream",
     "text": [
      "/Users/owenjones/opt/anaconda3/lib/python3.7/site-packages/sklearn/linear_model/logistic.py:947: ConvergenceWarning: lbfgs failed to converge. Increase the number of iterations.\n",
      "  \"of iterations.\", ConvergenceWarning)\n"
     ]
    },
    {
     "name": "stdout",
     "output_type": "stream",
     "text": [
      "Accuracy of linear model is 0.918940\n",
      "Accuracy of neural network is 0.962100\n"
     ]
    }
   ],
   "source": [
    "# put your code here\n",
    "clf.fit(train_data, train_labels)\n",
    "print(\"Accuracy of linear model is %f\"%clf.score(test_data,test_labels))\n",
    "brain.fit(train_data,train_labels)\n",
    "print(\"Accuracy of neural network is %f\"%brain.score(test_data, test_labels))"
   ]
  },
  {
   "cell_type": "markdown",
   "metadata": {},
   "source": [
    "## 6. Visualize learned filters from Linear and Non-linear model\n",
    "\n",
    "Visualize filters (learned weights) similar to what you saw in lab. Sklearn docs have some examples of doing this for non-linear model. For non-linear model you can represent some rows from the first layer of the neural network (since there are more than 10 of such rows, you can use first 10 rows)."
   ]
  },
  {
   "cell_type": "code",
   "execution_count": 9,
   "metadata": {},
   "outputs": [
    {
     "name": "stdout",
     "output_type": "stream",
     "text": [
      "Softmax Classifier weights visualized:\n"
     ]
    },
    {
     "data": {
      "image/png": "[encoded data removed]",
      "text/plain": [
       "<Figure size 432x432 with 10 Axes>"
      ]
     },
     "metadata": {
      "needs_background": "light"
     },
     "output_type": "display_data"
    },
    {
     "name": "stdout",
     "output_type": "stream",
     "text": [
      "First 10 Neural Network weights visualized:\n"
     ]
    },
    {
     "data": {
      "image/png": "[encoded data removed]",
      "text/plain": [
       "<Figure size 432x288 with 10 Axes>"
      ]
     },
     "metadata": {},
     "output_type": "display_data"
    }
   ],
   "source": [
    "# put your code here\n",
    "\n",
    "def vis_softmax(clf):\n",
    "    fig, axes = plot.subplots(2, 5,figsize=(6,6))\n",
    "    for i in range(2):\n",
    "        for j in range(5):\n",
    "            idx = j + i * 5\n",
    "            axes[i, j].imshow(clf.coef_[idx].reshape(28, 28), cmap='gray')\n",
    "            axes[i, j].axis('off')\n",
    "\n",
    "    plot.show()\n",
    "\n",
    "#visualize a neural net. prints the first 10 rows of weights from the first layer.\n",
    "#used some code from scikit learn docs\n",
    "def vis_neural(mlp):\n",
    "    fig, axes = plot.subplots(2,5 )\n",
    "    # use global min / max to ensure all weights are shown on the same scale\n",
    "    vmin, vmax = mlp.coefs_[0].min(), mlp.coefs_[0].max()\n",
    "    for coef, ax in zip(mlp.coefs_[0].T, axes.ravel()):\n",
    "        ax.imshow(coef.reshape(28, 28), cmap=plot.cm.gray)\n",
    "        ax.set_xticks(())\n",
    "        ax.set_yticks(())\n",
    "print(\"Softmax Classifier weights visualized:\")\n",
    "vis_softmax(clf)\n",
    "print(\"First 10 Neural Network weights visualized:\")\n",
    "vis_neural(brain)"
   ]
  },
  {
   "cell_type": "markdown",
   "metadata": {},
   "source": [
    "## 7. Report test accuracy of both models and analyze confusion matrices\n",
    "\n",
    "Get the accuracy using `.score()` function (**using test data**).\n",
    "\n",
    "**Attention:** to get full points:\n",
    "\n",
    "1. You need to get *`>90%`* accuracy on 50k test set. \n",
    "2. Non-linear model should give better performance (think why).\n",
    "\n",
    "Make sure that accuracy value **is saved in the output** of the cell.\n",
    "\n",
    "For confusion matrix, use `sklearn.metrics.confusion_matrix`\n",
    "\n",
    "Firstly, compute confusion matrix using your model and test data.\n",
    "\n",
    "Then, given the defition:\n",
    "```\n",
    "By definition a confusion matrix :math:`C` is such that :math:`C_{i, j}`\n",
    "    is equal to the number of observations known to be in group :math:`i` and\n",
    "    predicted to be in group :math:`j`.\n",
    "```\n",
    "\n",
    "Estimate what is the most confusing pair (i -> j) of classes for you model (write code for that!).\n",
    "\n",
    "You will notice that confusing pair usually has similar digits '' on average '' e.g. 1 and 7 or 7 and 9"
   ]
  },
  {
   "cell_type": "code",
   "execution_count": 10,
   "metadata": {},
   "outputs": [
    {
     "name": "stdout",
     "output_type": "stream",
     "text": [
      "Linear Model: Accuracy is  0.918940\n",
      "      0     1     2     3     4     5     6     7     8     9\n",
      "0  4772     0    20    16    12    34    47    14    47    10\n",
      "1     1  5535    26    11     1     7     8     5    56     6\n",
      "2    14    59  4504    72    47    26    58    33   154    27\n",
      "3    12    13   148  4510     6   168    12    29   132    44\n",
      "4    10    16    29     6  4475    10    50    20    27   155\n",
      "5    68    38    27   161    51  3933    60    19   158    47\n",
      "6    57    14    42     3    43    74  4725     5    33     3\n",
      "7    11    23    68    26    44     2     0  4836    20   173\n",
      "8    29   102    65   126    47   133    23    17  4311    63\n",
      "9    24    24    18    59   155    27     3   114    56  4346\n",
      "\n",
      "In the linear model, (7 -> 9) is the most confusing pair with frequency:173\n",
      "\n",
      "Neural Network: Accuracy is 0.962100\n",
      "      0     1     2     3     4     5     6     7     8     9\n",
      "0  4807     1    22     1     7     7    30     4    43    50\n",
      "1     0  5601    12     7     2     1     8     5    17     3\n",
      "2    12    30  4820    38    18     2     9    23    37     5\n",
      "3     6     4    82  4814     1    74     1    12    47    33\n",
      "4     9    15     6     2  4650     2    18    18     8    70\n",
      "5     9    11    12    80     5  4280    58     2    61    44\n",
      "6    35     6     6     7    17    15  4860     0    47     6\n",
      "7     4    23    69    11    25     4     2  4999     8    58\n",
      "8    21    40    17    46    15    29    25     8  4675    40\n",
      "9    13    11     7    29    66    20     2    22    57  4599\n",
      "\n",
      "In the neural network, (3 -> 2) is the most confusing pair with frequency: 82\n",
      "\n"
     ]
    }
   ],
   "source": [
    "#Note that, conveniently, the indices are identical to the class names (0-9)\n",
    "#thus we return the indices of the maximal confusing pair\n",
    "def max_confusing(C):\n",
    "    max_i,maxj,freq = 0,0,0\n",
    "    for i in range(len(C)):\n",
    "        for j in range(len(C[i])):\n",
    "            if i != j and C[i][j] > freq:\n",
    "                max_i,max_j,freq = i,j,C[i][j]\n",
    "    return max_i,max_j,freq\n",
    "\n",
    "\n",
    "C = confusion_matrix(test_labels,clf.predict(test_data))\n",
    "cmax_i,cmax_j,cfreq = max_confusing(C)\n",
    "\n",
    "D = confusion_matrix(test_labels,brain.predict(test_data))\n",
    "dmax_i, dmax_j,dfreq = max_confusing(D)\n",
    "\n",
    "#put it into a pandas data frame to label axes\n",
    "\n",
    "print(\"Linear Model: Accuracy is  %f\"%clf.score(test_data,test_labels))\n",
    "print(pd.DataFrame(C))\n",
    "print(\"\\nIn the linear model, (%d -> %d) is the most confusing pair with frequency:%d\\n\"%(cmax_i,cmax_j,cfreq))\n",
    "\n",
    "print(\"Neural Network: Accuracy is %f\"%brain.score(test_data, test_labels))\n",
    "print(pd.DataFrame(D))\n",
    "print(\"\\nIn the neural network, (%d -> %d) is the most confusing pair with frequency: %d\\n\"%(dmax_i, dmax_j, dfreq))"
   ]
  },
  {
   "cell_type": "markdown",
   "metadata": {},
   "source": [
    "# BONUS 2 points\n",
    "\n",
    "Train Non-linear model with a different initialization (make sure that random seed is different) and compare the most confusing pair with the first trained model. Is it different? Provide some argument why it can be different."
   ]
  },
  {
   "cell_type": "code",
   "execution_count": 11,
   "metadata": {},
   "outputs": [
    {
     "name": "stdout",
     "output_type": "stream",
     "text": [
      "Other Neural Network: Accuracy is 0.962480\n",
      "      0     1     2     3     4     5     6     7     8     9\n",
      "0  4876     8    24     3     5    15    14     2    13    12\n",
      "1     1  5584    28     2     1     8    11     8     9     4\n",
      "2    14    10  4835    35    27     4    10    26    26     7\n",
      "3     9     3    99  4840     2    64     2     9    23    23\n",
      "4     5    10    11     0  4658     0    30    19     6    59\n",
      "5    16     8    20    67     2  4331    50     6    19    43\n",
      "6    44     6     7     0    24    30  4880     0     6     2\n",
      "7     7    11    51    14    24     6     0  5029     3    58\n",
      "8    27    40    47   109    19    67    43    11  4496    57\n",
      "9    21     7     5    34    61    25     2    48    28  4595\n",
      "\n",
      "In the other neural network, (8 -> 3) is the most confusing pair with frequency: 109\n",
      "\n"
     ]
    }
   ],
   "source": [
    "#trained the nonlinear model with a different random state variable\n",
    "mlp = MLPClassifier(solver = 'adam',random_state = 123456,alpha = 1e-5,hidden_layer_sizes = (100,))\n",
    "mlp.fit(train_data, train_labels)\n",
    "\n",
    "E = confusion_matrix(test_labels, mlp.predict(test_data))\n",
    "emax_i, emax_j,efreq = max_confusing(E)\n",
    "\n",
    "print(\"Other Neural Network: Accuracy is %f\"%mlp.score(test_data,test_labels))\n",
    "print(pd.DataFrame(E))\n",
    "print(\"\\nIn the other neural network, (%d -> %d) is the most confusing pair with frequency: %d\\n\"%(emax_i, emax_j, efreq))"
   ]
  },
  {
   "cell_type": "markdown",
   "metadata": {},
   "source": [
    "The minimal weights found by the solver function during the learning process largely depend on the starting $w$ (or in the case of a neural network, on the multiple starting $w_i$'s). We know that solver functions attempt to minimize one or several cost functions by repeatedly modifying values of the weights until some stopping criteria is met. These solvers do not guarantee an absolute minimum, and can stop after a certain number of iterations occur, after cost is below a certain level of tolerance, after a local minimum is found, etc.\n",
    "\n",
    "Therefore, when two separate (randomly chosen) starting vectors are used in two separate runs of the learning algorithm, as they begin randomly spread out, it is extremely likely that they start off with very different values and each ends, for any of the reasons mentioned above, on different values of $w$ for each weight vector at each neuron.\n",
    "    \n",
    "    \n",
    "Different values of $w$ will behave differently, and so while both models may have very similar accuracy rates, the actual values they output when dotted with input vectors will be different, meaning many points will not be classified, or miss-classified, in the same way by both models.\n",
    "    \n",
    "    \n",
    "As a result, corresponding frequencies found in each's confusion matrix, while similar(especially along the diagonal, where the correctly classified points are), differ somewhat, causing the noticed discrepancy in maximal confusing pairs between the two non-linear models.\n",
    "\n",
    "    "
   ]
  },
  {
   "cell_type": "markdown",
   "metadata": {},
   "source": [
    "# THE END\n",
    "\n",
    "plese carefully check that all numbers / pics you produced are saved."
   ]
  },
  {
   "cell_type": "code",
   "execution_count": null,
   "metadata": {},
   "outputs": [],
   "source": []
  },
  {
   "cell_type": "code",
   "execution_count": null,
   "metadata": {},
   "outputs": [],
   "source": []
  }
 ],
 "metadata": {
  "kernelspec": {
   "display_name": "Python 3",
   "language": "python",
   "name": "python3"
  },
  "language_info": {
   "codemirror_mode": {
    "name": "ipython",
    "version": 3
   },
   "file_extension": ".py",
   "mimetype": "text/x-python",
   "name": "python",
   "nbconvert_exporter": "python",
   "pygments_lexer": "ipython3",
   "version": "3.7.4"
  }
 },
 "nbformat": 4,
 "nbformat_minor": 4
}
