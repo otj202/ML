{
 "cells": [
  {
   "cell_type": "code",
   "execution_count": 51,
   "metadata": {},
   "outputs": [],
   "source": [
    "import numpy\n",
    "from sklearn.neural_network import MLPClassifier"
   ]
  },
  {
   "cell_type": "code",
   "execution_count": 6,
   "metadata": {},
   "outputs": [],
   "source": [
    "class Coral():\n",
    "    def __init__(self,x,y,prob,vel,d2port):\n",
    "        self.x = x\n",
    "        self.y = y\n",
    "        self.prob = prob\n",
    "        self.vel = vel\n",
    "        self.d2port = d2port\n",
    "    def __str__(self):\n",
    "        return \"x=%f,y=%f,prob=%f,vel=%f,d2port=%f \"%(self.x,self.y,self.prob,self.vel,self.d2port)"
   ]
  },
  {
   "cell_type": "code",
   "execution_count": 7,
   "metadata": {},
   "outputs": [
    {
     "name": "stdout",
     "output_type": "stream",
     "text": [
      "{'x': 0, 'y': 0, 'prob': 1, 'vel': 1, 'd2port': 2}\n"
     ]
    }
   ],
   "source": []
  },
  {
   "cell_type": "code",
   "execution_count": 68,
   "metadata": {},
   "outputs": [],
   "source": [
    "#random data\n",
    "X = numpy.array([[numpy.random.random()*100,numpy.random.random()*100,numpy.random.random(),numpy.random.random()*10,numpy.random.random()*1000]])\n",
    "for _ in range(19999):\n",
    "    x = numpy.array([[numpy.random.random()*100,numpy.random.random()*100,numpy.random.random(),numpy.random.random()*10,numpy.random.random()*1000]])\n",
    "    X=numpy.concatenate((X,x))\n",
    "\n",
    "Y = numpy.array([int(2*numpy.random.random())])\n",
    "for _ in range(len(X) - 1):\n",
    "    Y = numpy.concatenate((Y,numpy.array([int(2*numpy.random.random())])))\n",
    "\n",
    "x_train,y_train = X[:15000],numpy.asarray(Y[:15000],dtype = \"|S6\")  \n",
    "\n",
    "x_test,y_test = X[15000:],numpy.asarray(Y[15000:],dtype = \"|S6\")\n",
    "\n"
   ]
  },
  {
   "cell_type": "code",
   "execution_count": 70,
   "metadata": {},
   "outputs": [
    {
     "name": "stdout",
     "output_type": "stream",
     "text": [
      "[b'1' b'1' b'0' ... b'1' b'0' b'1']\n"
     ]
    }
   ],
   "source": [
    "print(y_train)"
   ]
  },
  {
   "cell_type": "code",
   "execution_count": 71,
   "metadata": {},
   "outputs": [
    {
     "data": {
      "text/plain": [
       "MLPClassifier(activation='relu', alpha=1e-05, batch_size='auto', beta_1=0.9,\n",
       "              beta_2=0.999, early_stopping=False, epsilon=1e-08,\n",
       "              hidden_layer_sizes=(100,), learning_rate='constant',\n",
       "              learning_rate_init=0.001, max_iter=200, momentum=0.9,\n",
       "              n_iter_no_change=10, nesterovs_momentum=True, power_t=0.5,\n",
       "              random_state=12345, shuffle=True, solver='adam', tol=0.0001,\n",
       "              validation_fraction=0.1, verbose=False, warm_start=False)"
      ]
     },
     "execution_count": 71,
     "metadata": {},
     "output_type": "execute_result"
    }
   ],
   "source": [
    "random_seed = 12345\n",
    "brain = MLPClassifier(solver = 'adam',random_state = random_seed,alpha = 1e-5,hidden_layer_sizes = (100,))\n",
    "brain.fit(x_train,y_train)\n"
   ]
  },
  {
   "cell_type": "code",
   "execution_count": 77,
   "metadata": {},
   "outputs": [
    {
     "name": "stdout",
     "output_type": "stream",
     "text": [
      "0.5077333333333334\n",
      "0.4974\n"
     ]
    }
   ],
   "source": [
    "print(brain.score(x_train,y_train))\n",
    "print(brain.score(x_test,y_test))"
   ]
  },
  {
   "cell_type": "code",
   "execution_count": 48,
   "metadata": {},
   "outputs": [
    {
     "name": "stdout",
     "output_type": "stream",
     "text": [
      "[0.13838987 0.55870436 0.57101012 ... 0.51201869 0.87196872 0.45693524]\n"
     ]
    }
   ],
   "source": [
    "\n"
   ]
  }
 ],
 "metadata": {
  "kernelspec": {
   "display_name": "Python 3",
   "language": "python",
   "name": "python3"
  },
  "language_info": {
   "codemirror_mode": {
    "name": "ipython",
    "version": 3
   },
   "file_extension": ".py",
   "mimetype": "text/x-python",
   "name": "python",
   "nbconvert_exporter": "python",
   "pygments_lexer": "ipython3",
   "version": "3.7.4"
  }
 },
 "nbformat": 4,
 "nbformat_minor": 2
}
